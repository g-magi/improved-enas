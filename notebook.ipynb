{
  "nbformat": 4,
  "nbformat_minor": 0,
  "metadata": {
    "colab": {
      "name": "Untitled0.ipynb",
      "provenance": [],
      "toc_visible": true,
      "mount_file_id": "1BG4MZ5K5p-TDCDywGDYKHltQSvZe5kNs",
      "authorship_tag": "ABX9TyPn1/OhMv86sEqWJw7IP8un",
      "include_colab_link": true
    },
    "kernelspec": {
      "name": "python3",
      "display_name": "Python 3"
    },
    "accelerator": "GPU"
  },
  "cells": [
    {
      "cell_type": "markdown",
      "metadata": {
        "id": "view-in-github",
        "colab_type": "text"
      },
      "source": [
        "<a href=\"https://colab.research.google.com/github/g-magi/tesi-magistrale/blob/initial-testing/notebook.ipynb\" target=\"_parent\"><img src=\"https://colab.research.google.com/assets/colab-badge.svg\" alt=\"Open In Colab\"/></a>"
      ]
    },
    {
      "cell_type": "code",
      "metadata": {
        "id": "dbGMX11sBKf7",
        "colab_type": "code",
        "colab": {
          "base_uri": "https://localhost:8080/",
          "height": 139
        },
        "outputId": "a860ffa1-0987-48d5-c71b-acd43393d3b4"
      },
      "source": [
        "from google.colab import drive\n",
        "ROOT = \"/content/drive\"\n",
        "print(ROOT)\n",
        "drive.mount(ROOT)"
      ],
      "execution_count": 1,
      "outputs": [
        {
          "output_type": "stream",
          "text": [
            "/content/drive\n",
            "Go to this URL in a browser: https://accounts.google.com/o/oauth2/auth?client_id=947318989803-6bn6qk8qdgf4n4g3pfee6491hc0brc4i.apps.googleusercontent.com&redirect_uri=urn%3aietf%3awg%3aoauth%3a2.0%3aoob&response_type=code&scope=email%20https%3a%2f%2fwww.googleapis.com%2fauth%2fdocs.test%20https%3a%2f%2fwww.googleapis.com%2fauth%2fdrive%20https%3a%2f%2fwww.googleapis.com%2fauth%2fdrive.photos.readonly%20https%3a%2f%2fwww.googleapis.com%2fauth%2fpeopleapi.readonly\n",
            "\n",
            "Enter your authorization code:\n",
            "··········\n",
            "Mounted at /content/drive\n"
          ],
          "name": "stdout"
        }
      ]
    },
    {
      "cell_type": "code",
      "metadata": {
        "id": "gYquK4WHflsX",
        "colab_type": "code",
        "colab": {
          "base_uri": "https://localhost:8080/",
          "height": 221
        },
        "outputId": "463736f0-49ac-42c5-d030-11249bbee3e5"
      },
      "source": [
        "from os.path import join\n",
        "\n",
        "MY_GOOGLE_DRIVE_PATH = \"My Drive/GitHubRepos/tesi-magistrale\"\n",
        "\n",
        "GIT_USERNAME = \"g-magi\"\n",
        "\n",
        "GIT_TOKEN = \"be33ae98b13b8f9e38bcae1dda24f652ede0da59\"\n",
        "\n",
        "GIT_REPOSITORY = \"tesi-magistrale\"\n",
        "\n",
        "PROJECT_PATH = join(ROOT, MY_GOOGLE_DRIVE_PATH)\n",
        "\n",
        "print(\"PROJECT_PATH: \", PROJECT_PATH)\n",
        "\n",
        "!mkdir \"{PROJECT_PATH}\"\n",
        "\n",
        "GIT_PATH = \"https://\" + GIT_TOKEN + \"@github.com/\" + GIT_USERNAME + \"/\" + GIT_REPOSITORY + \".git\"\n",
        "print(\"GIT_PATH: \", GIT_PATH)\n",
        "\n",
        "%cd \"{PROJECT_PATH}\"\n",
        "!git clone \"{GIT_PATH}\""
      ],
      "execution_count": 4,
      "outputs": [
        {
          "output_type": "stream",
          "text": [
            "PROJECT_PATH:  /content/drive/My Drive/GitHubRepos/tesi-magistrale\n",
            "mkdir: cannot create directory ‘/content/drive/My Drive/GitHubRepos/tesi-magistrale’: File exists\n",
            "GIT_PATH:  https://be33ae98b13b8f9e38bcae1dda24f652ede0da59@github.com/g-magi/tesi-magistrale.git\n",
            "/content/drive/My Drive/GitHubRepos/tesi-magistrale\n",
            "Cloning into 'tesi-magistrale'...\n",
            "remote: Enumerating objects: 69500, done.\u001b[K\n",
            "remote: Counting objects: 100% (69500/69500), done.\u001b[K\n",
            "remote: Compressing objects: 100% (69496/69496), done.\u001b[K\n",
            "remote: Total 69500 (delta 5), reused 69496 (delta 4), pack-reused 0\n",
            "Receiving objects: 100% (69500/69500), 21.13 MiB | 1.47 MiB/s, done.\n",
            "Resolving deltas: 100% (5/5), done.\n",
            "Checking out files: 100% (69476/69476), done.\n"
          ],
          "name": "stdout"
        }
      ]
    },
    {
      "cell_type": "code",
      "metadata": {
        "id": "jNNVKwYLks7f",
        "colab_type": "code",
        "colab": {}
      },
      "source": [
        "from google.colab import output\n",
        "output.eval_js('new Audio(\"https://upload.wikimedia.org/wikipedia/commons/0/05/Beep-09.ogg\").play()')"
      ],
      "execution_count": 0,
      "outputs": []
    },
    {
      "cell_type": "code",
      "metadata": {
        "id": "HVLf5v8-mjRi",
        "colab_type": "code",
        "colab": {
          "base_uri": "https://localhost:8080/",
          "height": 34
        },
        "outputId": "5b98d0e7-ab9e-4ee6-ef53-45afdab5082e"
      },
      "source": [
        "%cd {PROJECT_PATH}"
      ],
      "execution_count": 7,
      "outputs": [
        {
          "output_type": "stream",
          "text": [
            "/content/drive/My Drive/GitHubRepos/tesi-magistrale\n"
          ],
          "name": "stdout"
        }
      ]
    },
    {
      "cell_type": "code",
      "metadata": {
        "id": "3oE9wBmInPml",
        "colab_type": "code",
        "colab": {
          "base_uri": "https://localhost:8080/",
          "height": 34
        },
        "outputId": "e9098f71-bf7a-45e1-ba77-5e0feeed66c4"
      },
      "source": [
        "%cd \"tesi-magistrale\""
      ],
      "execution_count": 9,
      "outputs": [
        {
          "output_type": "stream",
          "text": [
            "/content/drive/My Drive/GitHubRepos/tesi-magistrale/tesi-magistrale\n"
          ],
          "name": "stdout"
        }
      ]
    },
    {
      "cell_type": "code",
      "metadata": {
        "id": "XcRJzEP_ngRG",
        "colab_type": "code",
        "colab": {
          "base_uri": "https://localhost:8080/",
          "height": 51
        },
        "outputId": "9850b3e5-74c1-4a96-f6d6-35a356d81a5e"
      },
      "source": [
        "!git checkout initial-testing"
      ],
      "execution_count": 13,
      "outputs": [
        {
          "output_type": "stream",
          "text": [
            "Branch 'initial-testing' set up to track remote branch 'initial-testing' from 'origin'.\n",
            "Switched to a new branch 'initial-testing'\n"
          ],
          "name": "stdout"
        }
      ]
    },
    {
      "cell_type": "code",
      "metadata": {
        "id": "L2jRPpacpgyG",
        "colab_type": "code",
        "colab": {}
      },
      "source": [
        "!git add ."
      ],
      "execution_count": 0,
      "outputs": []
    },
    {
      "cell_type": "code",
      "metadata": {
        "id": "cvGUWPcwqlyj",
        "colab_type": "code",
        "colab": {
          "base_uri": "https://localhost:8080/",
          "height": 85
        },
        "outputId": "977f9928-640c-4d68-c8d0-33ee6cffc82c"
      },
      "source": [
        "!git commit -m '\"test colab\"'\n",
        "!git config --global user.email \"gabriele.magistrali@gmail.com\"\n",
        "!git config --global user.name \"g-magi\""
      ],
      "execution_count": 18,
      "outputs": [
        {
          "output_type": "stream",
          "text": [
            "On branch initial-testing\n",
            "Your branch is up to date with 'origin/initial-testing'.\n",
            "\n",
            "nothing to commit, working tree clean\n"
          ],
          "name": "stdout"
        }
      ]
    },
    {
      "cell_type": "code",
      "metadata": {
        "id": "QVWIJy2irNWb",
        "colab_type": "code",
        "colab": {
          "base_uri": "https://localhost:8080/",
          "height": 34
        },
        "outputId": "22a046a1-fc62-49cb-f232-812b8e53f3be"
      },
      "source": [
        "!git push origin initial-testing"
      ],
      "execution_count": 19,
      "outputs": [
        {
          "output_type": "stream",
          "text": [
            "Everything up-to-date\n"
          ],
          "name": "stdout"
        }
      ]
    },
    {
      "cell_type": "code",
      "metadata": {
        "id": "vm1wzQw-tX8E",
        "colab_type": "code",
        "colab": {}
      },
      "source": [
        ""
      ],
      "execution_count": 0,
      "outputs": []
    }
  ]
}